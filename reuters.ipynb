{
  "nbformat": 4,
  "nbformat_minor": 0,
  "metadata": {
    "colab": {
      "name": "reuters.ipynb",
      "provenance": [],
      "authorship_tag": "ABX9TyOXySd9U+VhzuY4j351NTUX",
      "include_colab_link": true
    },
    "kernelspec": {
      "name": "python3",
      "display_name": "Python 3"
    },
    "language_info": {
      "name": "python"
    },
    "accelerator": "GPU"
  },
  "cells": [
    {
      "cell_type": "markdown",
      "metadata": {
        "id": "view-in-github",
        "colab_type": "text"
      },
      "source": [
        "<a href=\"https://colab.research.google.com/github/maledias/reuters/blob/main/reuters.ipynb\" target=\"_parent\"><img src=\"https://colab.research.google.com/assets/colab-badge.svg\" alt=\"Open In Colab\"/></a>"
      ]
    },
    {
      "cell_type": "markdown",
      "metadata": {
        "id": "ZMYuy-4BdBKA"
      },
      "source": [
        "# Classificando o tópico de notícias\n",
        "\n",
        "A ideia deste notebook é criar um modelo capaz de classificar as notícias disponíveis no _Reuters dataset_ em um tópico específico, dentro de 46 tópicos possíveis."
      ]
    },
    {
      "cell_type": "markdown",
      "metadata": {
        "id": "leUlwWMAeUAJ"
      },
      "source": [
        "## Importando os dados e explorando os dados"
      ]
    },
    {
      "cell_type": "code",
      "metadata": {
        "id": "mYe3-_d6eX8y"
      },
      "source": [
        "from keras.datasets import reuters\n",
        "\n",
        "# O argumento num_words carrega apenas as 10000 palavras mais comuns\n",
        "(train_data, train_labels), (test_data, test_labels) = reuters.load_data(num_words=10000)"
      ],
      "execution_count": 10,
      "outputs": []
    },
    {
      "cell_type": "markdown",
      "metadata": {
        "id": "t_-d1_IEe62L"
      },
      "source": [
        "São *8982* dados de treino e *2246* dados de teste."
      ]
    },
    {
      "cell_type": "code",
      "metadata": {
        "colab": {
          "base_uri": "https://localhost:8080/"
        },
        "id": "yiS44EFFeqBr",
        "outputId": "7fc94c8f-4c0c-4936-bd0f-75c4b2bd2417"
      },
      "source": [
        "print(f\"Quantidade de dados de treino: {len(train_data)}.\")\n",
        "\n",
        "print(f\"Quantidade de dados de teste: {len(test_data)}.\")"
      ],
      "execution_count": 11,
      "outputs": [
        {
          "output_type": "stream",
          "name": "stdout",
          "text": [
            "Quantidade de dados de treino: 8982.\n",
            "Quantidade de dados de teste: 2246.\n"
          ]
        }
      ]
    },
    {
      "cell_type": "markdown",
      "metadata": {
        "id": "I_bNq1eKe2tK"
      },
      "source": [
        "Cada datapoint é uma lista de números inteiros, e cada inteiro representa uma palavra (dentro das 10000 mais utilizadas no dataset):"
      ]
    },
    {
      "cell_type": "code",
      "metadata": {
        "colab": {
          "base_uri": "https://localhost:8080/"
        },
        "id": "2J_hFsWCfHGg",
        "outputId": "31517cf9-713f-4446-ef12-e8499c0195dc"
      },
      "source": [
        "train_data[0][:10]"
      ],
      "execution_count": 13,
      "outputs": [
        {
          "output_type": "execute_result",
          "data": {
            "text/plain": [
              "[1, 2, 2, 8, 43, 10, 447, 5, 25, 207]"
            ]
          },
          "metadata": {},
          "execution_count": 13
        }
      ]
    },
    {
      "cell_type": "markdown",
      "metadata": {
        "id": "ljk3K-rBfKVy"
      },
      "source": [
        "Podemos traduzir uma notícia para sua versão em inglês (lembrando que estamos mostrando apenas as 10000 palavras mais comuns): "
      ]
    },
    {
      "cell_type": "code",
      "metadata": {
        "id": "6rhGqX8Zfqjn"
      },
      "source": [
        "number_to_word = {index:word for word, index in reuters.get_word_index().items()}\n",
        "def show_text_in_english(word_list):\n",
        "    text = [number_to_word[n] for n in word_list]\n",
        "    return \" \".join(text)"
      ],
      "execution_count": 21,
      "outputs": []
    },
    {
      "cell_type": "code",
      "metadata": {
        "colab": {
          "base_uri": "https://localhost:8080/",
          "height": 53
        },
        "id": "51bBR9FSf0fJ",
        "outputId": "9b269020-4ebb-4121-ea1f-16a0a4520722"
      },
      "source": [
        "show_text_in_english(train_data[0])"
      ],
      "execution_count": 22,
      "outputs": [
        {
          "output_type": "execute_result",
          "data": {
            "application/vnd.google.colaboratory.intrinsic+json": {
              "type": "string"
            },
            "text/plain": [
              "'the of of mln loss for plc said at only ended said commonwealth could 1 traders now april 0 a after said from 1985 and from foreign 000 april 0 prices its account year a but in this mln home an states earlier and rise and revs vs 000 its 16 vs 000 a but 3 psbr oils several and shareholders and dividend vs 000 its all 4 vs 000 1 mln agreed largely april 0 are 2 states will billion total and against 000 pct dlrs'"
            ]
          },
          "metadata": {},
          "execution_count": 22
        }
      ]
    },
    {
      "cell_type": "markdown",
      "metadata": {
        "id": "YbZkCMW7gF9n"
      },
      "source": [
        "## Preprocessamento dos dados"
      ]
    },
    {
      "cell_type": "code",
      "metadata": {
        "id": "F99UW3kKhOKF"
      },
      "source": [
        "import numpy as np\n",
        "\n",
        "def vectorize_text(data, num_words=10000):\n",
        "    vectorized_data = np.zeros((len(data), num_words))\n",
        "    for i, word_list in enumerate(data):\n",
        "        vectorized_data[i, word_list] = 1.\n",
        "    return vectorized_data"
      ],
      "execution_count": 24,
      "outputs": []
    },
    {
      "cell_type": "code",
      "metadata": {
        "id": "Jvl_fo1Gh6sG"
      },
      "source": [
        "train_data_vectorized = one_hot_encode_text(train_data)\n",
        "test_data_vectorized = one_hot_encode_text(test_data)"
      ],
      "execution_count": 25,
      "outputs": []
    },
    {
      "cell_type": "code",
      "metadata": {
        "id": "fb895wgNiOi8"
      },
      "source": [
        "def one_hot_encode_labels(data, num_labels=46):\n",
        "    one_hot_encoded_labels = np.zeros((len(data), num_labels))\n",
        "    for i, label in enumerate(data):\n",
        "        one_hot_encoded_labels[i, label] = 1.\n",
        "    return one_hot_encoded_labels"
      ],
      "execution_count": 26,
      "outputs": []
    },
    {
      "cell_type": "code",
      "metadata": {
        "id": "n16jf3dMi6vt"
      },
      "source": [
        "train_labels_one_hot = one_hot_encode_labels(train_labels)\n",
        "test_labels_one_hot = one_hot_encode_labels(test_labels)"
      ],
      "execution_count": 27,
      "outputs": []
    },
    {
      "cell_type": "code",
      "metadata": {
        "colab": {
          "base_uri": "https://localhost:8080/"
        },
        "id": "i4a4yXSUjE38",
        "outputId": "3ebd267a-b899-4ea7-f730-97ba9b19aab1"
      },
      "source": [
        "train_data_vectorized.shape, train_labels_one_hot.shape"
      ],
      "execution_count": 30,
      "outputs": [
        {
          "output_type": "execute_result",
          "data": {
            "text/plain": [
              "((8982, 10000), (8982, 46))"
            ]
          },
          "metadata": {},
          "execution_count": 30
        }
      ]
    },
    {
      "cell_type": "markdown",
      "metadata": {
        "id": "cVLg033NjOmM"
      },
      "source": [
        "## Definindo o modelo"
      ]
    },
    {
      "cell_type": "code",
      "metadata": {
        "id": "p3yvstVhjiCs"
      },
      "source": [
        "import tensorflow as tf"
      ],
      "execution_count": 31,
      "outputs": []
    },
    {
      "cell_type": "code",
      "metadata": {
        "id": "ozyzotMSjjlt"
      },
      "source": [
        "model = tf.keras.models.Sequential([\n",
        "    tf.keras.layers.Dense(64, activation='relu', input_shape=(10000,)),\n",
        "    tf.keras.layers.Dense(64, activation='relu'),\n",
        "    tf.keras.layers.Dense(46, activation='softmax')                                \n",
        "])\n",
        "\n",
        "model.compile(\n",
        "    loss=tf.keras.losses.categorical_crossentropy,\n",
        "    optimizer=tf.keras.optimizers.RMSprop(),\n",
        "    metrics=['accuracy']\n",
        ")"
      ],
      "execution_count": 53,
      "outputs": []
    },
    {
      "cell_type": "markdown",
      "metadata": {
        "id": "t4yN36Qej36N"
      },
      "source": [
        "## Treinando o modelo"
      ]
    },
    {
      "cell_type": "code",
      "metadata": {
        "id": "HAnSCTZVkSBF"
      },
      "source": [
        "X_val = train_data_vectorized[:1000]\n",
        "X_train_partial = train_data_vectorized[1000:]\n",
        "y_val = train_labels_one_hot[:1000]\n",
        "y_train_partial = train_labels_one_hot[1000:]"
      ],
      "execution_count": 54,
      "outputs": []
    },
    {
      "cell_type": "code",
      "metadata": {
        "colab": {
          "base_uri": "https://localhost:8080/"
        },
        "id": "kAbgD13AkjEG",
        "outputId": "019c848b-61f2-4cd1-8e49-73bd82912079"
      },
      "source": [
        "history = model.fit(\n",
        "    X_train_partial,\n",
        "    y_train_partial,\n",
        "    epochs=9,\n",
        "    batch_size=512,\n",
        "    validation_data=(X_val, y_val)\n",
        ")"
      ],
      "execution_count": 55,
      "outputs": [
        {
          "output_type": "stream",
          "name": "stdout",
          "text": [
            "Epoch 1/9\n",
            "16/16 [==============================] - 1s 32ms/step - loss: 2.6069 - accuracy: 0.5343 - val_loss: 1.6948 - val_accuracy: 0.6570\n",
            "Epoch 2/9\n",
            "16/16 [==============================] - 0s 16ms/step - loss: 1.3656 - accuracy: 0.7112 - val_loss: 1.2724 - val_accuracy: 0.7200\n",
            "Epoch 3/9\n",
            "16/16 [==============================] - 0s 16ms/step - loss: 1.0210 - accuracy: 0.7764 - val_loss: 1.1308 - val_accuracy: 0.7550\n",
            "Epoch 4/9\n",
            "16/16 [==============================] - 0s 16ms/step - loss: 0.8095 - accuracy: 0.8295 - val_loss: 1.0135 - val_accuracy: 0.7940\n",
            "Epoch 5/9\n",
            "16/16 [==============================] - 0s 16ms/step - loss: 0.6483 - accuracy: 0.8653 - val_loss: 0.9492 - val_accuracy: 0.8010\n",
            "Epoch 6/9\n",
            "16/16 [==============================] - 0s 16ms/step - loss: 0.5135 - accuracy: 0.8951 - val_loss: 0.9146 - val_accuracy: 0.8110\n",
            "Epoch 7/9\n",
            "16/16 [==============================] - 0s 16ms/step - loss: 0.4103 - accuracy: 0.9139 - val_loss: 0.8823 - val_accuracy: 0.8180\n",
            "Epoch 8/9\n",
            "16/16 [==============================] - 0s 17ms/step - loss: 0.3274 - accuracy: 0.9306 - val_loss: 0.8830 - val_accuracy: 0.8180\n",
            "Epoch 9/9\n",
            "16/16 [==============================] - 0s 16ms/step - loss: 0.2718 - accuracy: 0.9410 - val_loss: 0.8889 - val_accuracy: 0.8240\n"
          ]
        }
      ]
    },
    {
      "cell_type": "code",
      "metadata": {
        "colab": {
          "base_uri": "https://localhost:8080/",
          "height": 294
        },
        "id": "C4wOD6fkkt4n",
        "outputId": "8fbb189f-f6a5-4c32-f4ee-fd08e58692aa"
      },
      "source": [
        "import matplotlib.pyplot as plt\n",
        "loss = history.history['loss']\n",
        "val_loss = history.history['val_loss']\n",
        "epochs = range(1, len(loss) + 1)\n",
        "plt.plot(epochs, loss, 'bo', label='Training loss')\n",
        "plt.plot(epochs, val_loss, 'b', label='Validation loss')\n",
        "plt.title('Training and validation loss')\n",
        "plt.xlabel('Epochs')\n",
        "plt.ylabel('Loss')\n",
        "plt.legend()\n",
        "plt.show()"
      ],
      "execution_count": 56,
      "outputs": [
        {
          "output_type": "display_data",
          "data": {
            "image/png": "[encoded data removed]",
            "text/plain": [
              "<Figure size 432x288 with 1 Axes>"
            ]
          },
          "metadata": {
            "needs_background": "light"
          }
        }
      ]
    },
    {
      "cell_type": "code",
      "metadata": {
        "colab": {
          "base_uri": "https://localhost:8080/",
          "height": 294
        },
        "id": "MyBECkQBlHqI",
        "outputId": "47e07bdb-38df-4946-e99e-5bfb12a35f77"
      },
      "source": [
        "plt.clf()\n",
        "acc = history.history['accuracy']\n",
        "val_acc = history.history['val_accuracy']\n",
        "plt.plot(epochs, acc, 'bo', label='Training acc')\n",
        "plt.plot(epochs, val_acc, 'b', label='Validation acc')\n",
        "plt.title('Training and validation accuracy')\n",
        "plt.xlabel('Epochs')\n",
        "plt.ylabel('Accuracy')\n",
        "plt.legend()\n",
        "plt.show()"
      ],
      "execution_count": 57,
      "outputs": [
        {
          "output_type": "display_data",
          "data": {
            "image/png": "[encoded data removed]",
            "text/plain": [
              "<Figure size 432x288 with 1 Axes>"
            ]
          },
          "metadata": {
            "needs_background": "light"
          }
        }
      ]
    },
    {
      "cell_type": "code",
      "metadata": {
        "id": "PEDwhCXJlWqG"
      },
      "source": [
        ""
      ],
      "execution_count": 57,
      "outputs": []
    }
  ]
}